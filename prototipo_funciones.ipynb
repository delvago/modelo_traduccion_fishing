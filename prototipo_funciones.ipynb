{
 "cells": [
  {
   "cell_type": "markdown",
   "id": "4c83bd49",
   "metadata": {},
   "source": [
    "# Modelo de traducción de texto\n",
    "El modelo de phishing parece funcionar tanto en español como en inglés, pero por razones de confiabilidad, utilizaremos un modelo traductor primero."
   ]
  },
  {
   "cell_type": "code",
   "execution_count": 1,
   "id": "8cf632dc",
   "metadata": {},
   "outputs": [
    {
     "name": "stderr",
     "output_type": "stream",
     "text": [
      "c:\\Código\\GitHub\\modelo_traduccion_fishing\\venv\\lib\\site-packages\\tqdm\\auto.py:21: TqdmWarning: IProgress not found. Please update jupyter and ipywidgets. See https://ipywidgets.readthedocs.io/en/stable/user_install.html\n",
      "  from .autonotebook import tqdm as notebook_tqdm\n"
     ]
    }
   ],
   "source": [
    "from transformers import AutoTokenizer, AutoModelForSeq2SeqLM, AutoModelForSequenceClassification, pipeline\n",
    "from torch import argmax, softmax\n",
    "# Modelo de traducción\n",
    "tokenizer_traductor = AutoTokenizer.from_pretrained(\"Helsinki-NLP/opus-mt-es-en\")\n",
    "model_traductor = AutoModelForSeq2SeqLM.from_pretrained(\"Helsinki-NLP/opus-mt-es-en\")"
   ]
  },
  {
   "cell_type": "code",
   "execution_count": 2,
   "id": "0d69e421",
   "metadata": {},
   "outputs": [],
   "source": [
    "def traductor(text):\n",
    "    input = tokenizer_traductor(text, return_tensors=\"pt\", padding=True)\n",
    "    output = model_traductor.generate(**input)\n",
    "    traduccion = tokenizer_traductor.batch_decode(output, skip_special_tokens=True)\n",
    "    return traduccion"
   ]
  },
  {
   "cell_type": "code",
   "execution_count": 3,
   "id": "4d2c97a0",
   "metadata": {},
   "outputs": [
    {
     "name": "stdout",
     "output_type": "stream",
     "text": [
      "['Hello, World.', 'If you do not check your account within the next 24 hours, we may be forced to impose additional restrictions or suspend your account permanently for security reasons. Protecting your information is our priority. If it was not you who did this activity, we recommend that you change your password immediately after verifying your identity through the proposed link.', \"I don't want to, you do.\"]\n"
     ]
    }
   ],
   "source": [
    "# Reemplazar con la conexión a base de datos\n",
    "lista_textos = [\n",
    "    \"Hola Mundo\",\n",
    "    \"Si no verificas tu cuenta en las próximas 24 horas, podríamos vernos obligados a imponer restricciones adicionales o suspensor tu cuenta de forma permanente por motivos de seguridad. Proteger tu información es nuestra prioridad. Si no fue tú quien realizó esta actividad, te recomendamos que cambie tu contraseña inmediatamente después de verificar tu identidad a través del enlace propuesto.\",\n",
    "    \"No quiero, hazlo tu\"\n",
    "]\n",
    "\n",
    "traducciones_lista = traductor(lista_textos)\n",
    "print(traducciones_lista)"
   ]
  },
  {
   "cell_type": "markdown",
   "id": "05598e48",
   "metadata": {},
   "source": [
    "# Modelo de detección de phishing"
   ]
  },
  {
   "cell_type": "code",
   "execution_count": null,
   "id": "e843468d",
   "metadata": {},
   "outputs": [],
   "source": [
    "# Modelo de phishing\n",
    "tokenizer_phishing = AutoTokenizer.from_pretrained(\"ealvaradob/bert-finetuned-phishing\")\n",
    "model_phishing = AutoModelForSequenceClassification.from_pretrained(\"ealvaradob/bert-finetuned-phishing\")"
   ]
  },
  {
   "cell_type": "code",
   "execution_count": null,
   "id": "ee5beb9d",
   "metadata": {},
   "outputs": [],
   "source": [
    "def phishing(text):\n",
    "    input = tokenizer_phishing(text, return_tensors=\"pt\", padding=True)\n",
    "    output = model_phishing(**input)\n",
    "    logits = output.logits\n",
    "    probabilidades = logits.softmax(dim=1)\n",
    "    prediccion_id = argmax(probabilidades, dim=1)\n",
    "    lista_resultados = []\n",
    "    \n",
    "    for i in range(len(prediccion_id)):\n",
    "        pred_id = prediccion_id[i].item()\n",
    "        etiqueta_predicha = model_phishing.config.id2label[pred_id]\n",
    "        prob_predicha = probabilidades[i, pred_id].item()\n",
    "\n",
    "        resultado = {   \n",
    "            \"prediccion\" : \"phishing\" if etiqueta_predicha == \"phishing\" else \"benigno\",\n",
    "            \"probabilidad\" : prob_predicha\n",
    "        }\n",
    "        lista_resultados.append(resultado)\n",
    "    return lista_resultados"
   ]
  },
  {
   "cell_type": "code",
   "execution_count": null,
   "id": "e348113b",
   "metadata": {},
   "outputs": [],
   "source": [
    "def prediccion(text):\n",
    "    traduccion = traductor(text)\n",
    "    resultado = phishing(traduccion)\n",
    "    return resultado"
   ]
  },
  {
   "cell_type": "code",
   "execution_count": null,
   "id": "a9c31c8c",
   "metadata": {},
   "outputs": [],
   "source": [
    "def correo(text):\n",
    "    resultado = phishing(text)\n",
    "    return resultado"
   ]
  },
  {
   "cell_type": "code",
   "execution_count": 7,
   "id": "fb0d3ed1",
   "metadata": {},
   "outputs": [
    {
     "name": "stdout",
     "output_type": "stream",
     "text": [
      "[{'prediccion': 'benigno', 'probabilidad': 0.9975121021270752}, {'prediccion': 'phishing', 'probabilidad': 0.9996534585952759}, {'prediccion': 'benigno', 'probabilidad': 0.9999877214431763}]\n"
     ]
    }
   ],
   "source": [
    "resultado = prediccion(lista_textos)\n",
    "print(resultado)"
   ]
  }
 ],
 "metadata": {
  "kernelspec": {
   "display_name": "venv",
   "language": "python",
   "name": "python3"
  },
  "language_info": {
   "codemirror_mode": {
    "name": "ipython",
    "version": 3
   },
   "file_extension": ".py",
   "mimetype": "text/x-python",
   "name": "python",
   "nbconvert_exporter": "python",
   "pygments_lexer": "ipython3",
   "version": "3.9.6"
  }
 },
 "nbformat": 4,
 "nbformat_minor": 5
}
